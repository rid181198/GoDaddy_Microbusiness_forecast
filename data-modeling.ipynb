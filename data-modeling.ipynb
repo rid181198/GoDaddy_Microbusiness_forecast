{
 "cells": [
  {
   "cell_type": "code",
   "execution_count": 1,
   "id": "214bebef",
   "metadata": {
    "_cell_guid": "b1076dfc-b9ad-4769-8c92-a6c4dae69d19",
    "_uuid": "8f2839f25d086af736a60e9eeb907d3b93b6e0e5",
    "execution": {
     "iopub.execute_input": "2023-01-28T15:32:00.867128Z",
     "iopub.status.busy": "2023-01-28T15:32:00.866660Z",
     "iopub.status.idle": "2023-01-28T15:32:10.645814Z",
     "shell.execute_reply": "2023-01-28T15:32:10.644279Z"
    },
    "papermill": {
     "duration": 9.790833,
     "end_time": "2023-01-28T15:32:10.649074",
     "exception": false,
     "start_time": "2023-01-28T15:32:00.858241",
     "status": "completed"
    },
    "tags": []
   },
   "outputs": [],
   "source": [
    "import numpy as np\n",
    "import pandas as pd\n",
    "import matplotlib.pyplot as plt\n",
    "from tqdm import tqdm\n",
    "import tensorflow as tf\n",
    "from joblib import Parallel, delayed\n",
    "from tensorflow.keras.models import Sequential\n",
    "from tensorflow.keras.layers import Dense\n",
    "from tensorflow.keras.layers import LSTM\n",
    "from keras.models import Sequential\n",
    "from sklearn.preprocessing import MinMaxScaler, StandardScaler\n",
    "from keras.layers import Dense, LSTM, Dropout\n",
    "import warnings\n",
    "warnings.filterwarnings(\"ignore\")"
   ]
  },
  {
   "cell_type": "code",
   "execution_count": 2,
   "id": "992423c1",
   "metadata": {
    "execution": {
     "iopub.execute_input": "2023-01-28T15:32:10.662321Z",
     "iopub.status.busy": "2023-01-28T15:32:10.661491Z",
     "iopub.status.idle": "2023-01-28T15:32:11.154152Z",
     "shell.execute_reply": "2023-01-28T15:32:11.152430Z"
    },
    "papermill": {
     "duration": 0.502308,
     "end_time": "2023-01-28T15:32:11.157059",
     "exception": false,
     "start_time": "2023-01-28T15:32:10.654751",
     "status": "completed"
    },
    "tags": []
   },
   "outputs": [],
   "source": [
    "counties=10\n",
    "train_data = pd.read_csv('/kaggle/input/godaddy-microbusiness-density-forecasting/train.csv')\n",
    "test_data = pd.read_csv('/kaggle/input/godaddy-microbusiness-density-forecasting/test.csv')\n",
    "census_data = pd.read_csv('/kaggle/input/godaddy-microbusiness-density-forecasting/census_starter.csv')\n",
    "train_data=train_data[:39*counties]\n",
    "min_date = pd.to_datetime(min(train_data['first_day_of_month']))\n",
    "max_date = pd.to_datetime(max(train_data['first_day_of_month']))\n",
    "margin =  ( max_date.to_period('M')  ) \\\n",
    "                                   - ( min_date.to_period('M')  ) \n",
    "\n",
    "dict_val = {}\n",
    "for leng, val in enumerate(train_data.cfips.unique()):\n",
    "    dict_val[val] = leng\n",
    "    \n",
    "\n",
    "\n",
    "scaler = StandardScaler()\n",
    "\n",
    "#data for broadband access\n",
    "#census_data.iloc[:,0:5]=scaler.fit_transform(census_data.iloc[:,0:5].to_numpy())\n",
    "\n",
    "#population percent of 4yr degree\n",
    "#census_data.iloc[:,6:11]=scaler.fit_transform(census_data.iloc[:,6:11].to_numpy())\n",
    "\n",
    "#percent of born outside of the US\n",
    "#census_data.iloc[:,11:16]=scaler.fit_transform(census_data.iloc[:,11:16].to_numpy())\n",
    "\n",
    "#percent of IT workers\n",
    "#census_data.iloc[:,16:21]=scaler.fit_transform(census_data.iloc[:,16:21].to_numpy())\n",
    "\n",
    "#income level\n",
    "#census_data.iloc[:,21:26]=scaler.fit_transform(census_data.iloc[:,21:26].to_numpy())\n",
    "\n",
    "first_column = census_data.pop('cfips')\n",
    "census_data.insert(0, 'cfips', first_column)\n",
    "census_data.iloc[:,1:26]=scaler.fit_transform(census_data.iloc[:,1:26].to_numpy())\n",
    "\n",
    "\n",
    "def census_to_train(row,idNum,dataset):\n",
    "    row=row\n",
    "    idNum = idNum\n",
    "    year=pd.to_datetime(train_data['first_day_of_month'][row]).year - 2\n",
    "    temp_cen_data = pd.DataFrame(census_data[census_data['cfips'] == idNum])\n",
    "    \n",
    "    dataset.loc[row,\"pct_bb\"] = float(temp_cen_data[\"pct_bb_\" + str(year)])\n",
    "    dataset.loc[row,\"pct_college\"] = float(temp_cen_data[\"pct_college_\"+ str(year)])\n",
    "    dataset.loc[row,\"pct_foreign_born\"] = float(temp_cen_data[\"pct_foreign_born_\"+ str(year)])\n",
    "    dataset.loc[row,\"pct_it_workers\"] = float(temp_cen_data[\"pct_it_workers_\"+ str(year)])\n",
    "    dataset.loc[row,\"median_hh_inc\"] = float(temp_cen_data[\"median_hh_inc_\"+ str(year)])\n",
    "\n",
    "\n",
    "def init_to_feature(dataset,LSTM=False,Test=False):\n",
    "    #dataset['numMons'] = \" \"\n",
    "    dates = np.array(dataset['first_day_of_month'])\n",
    "\n",
    "    #numMons = ( (pd.to_datetime(dates).to_period('M')   ) \\\n",
    "    #                               - ( min_date.to_period('M')  ) )\n",
    "    #for i in range(len(dataset)):\n",
    "    #    dataset.loc[i,'numMons'] = numMons[i].n +1\n",
    "    dataset['numMons'] = \" \"\n",
    "    months0=np.arange(1,margin.n+2,1)\n",
    "    months=[]\n",
    "    for i in range(len(dict_val)):\n",
    "        months=np.concatenate((months,months0))\n",
    "    dataset['numMons'] = months\n",
    "\n",
    "    \n",
    "    \n",
    "    \n",
    "    dataset[\"countyID\"] = \" \"\n",
    "    for leng, val in enumerate(dataset['cfips']):\n",
    "        dataset.loc[leng,\"countyID\"] = dict_val[dataset.loc[leng,'cfips']]\n",
    "       \n",
    "    dataset = dataset.sort_values(['countyID', 'numMons'],\\\n",
    "              ascending = [True, True])\n",
    "\n",
    "    #dataset[\"pct_bb\"] = \" \"\n",
    "    #dataset[\"pct_college\"] = \" \"\n",
    "    #dataset[\"pct_foreign_born\"] = \" \"\n",
    "    #dataset[\"pct_it_workers\"] = \" \"\n",
    "    #dataset[\"median_hh_inc\"] = \" \"\n",
    "\n",
    "    \n",
    "    \n",
    "    #for row, idNum in enumerate(tqdm(dataset['cfips'])):\n",
    "    #     census_to_train(row,idNum,dataset)\n",
    "   \n",
    "    \n",
    "    \n",
    "    \n",
    "    if LSTM==True and Test==False:\n",
    "        new_set=[]\n",
    "        for i in np.arange(0, len(dataset),39):\n",
    "            new_set.append(dataset[i:i+30])\n",
    "        dataset = pd.concat(new_set)\n",
    "        \n",
    "    if LSTM==True and Test==True:\n",
    "        new_set=[]\n",
    "        for i in np.arange(0, len(dataset),39):\n",
    "            new_set.append(dataset[i+28:i+39])\n",
    "        dataset = pd.concat(new_set)\n",
    "    \n",
    "    \n",
    "    #features = np.array(dataset[['countyID','numMons','pct_bb','pct_college',\\\n",
    "    #                           'pct_foreign_born','pct_it_workers','median_hh_inc','microbusiness_density']])\n",
    "\n",
    "    features = np.array(dataset[['numMons','microbusiness_density']])\n",
    "    IDs = np.array(dataset['countyID'])\n",
    "                                 \n",
    "    return features, IDs\n"
   ]
  },
  {
   "cell_type": "code",
   "execution_count": 3,
   "id": "af3a3fed",
   "metadata": {
    "execution": {
     "iopub.execute_input": "2023-01-28T15:32:11.169950Z",
     "iopub.status.busy": "2023-01-28T15:32:11.169507Z",
     "iopub.status.idle": "2023-01-28T15:32:11.451957Z",
     "shell.execute_reply": "2023-01-28T15:32:11.450580Z"
    },
    "papermill": {
     "duration": 0.292574,
     "end_time": "2023-01-28T15:32:11.454999",
     "exception": false,
     "start_time": "2023-01-28T15:32:11.162425",
     "status": "completed"
    },
    "tags": []
   },
   "outputs": [],
   "source": [
    "#test_features = init_to_feature(test_data,LSTM=False)\n",
    "\n",
    "train = init_to_feature(train_data[:],LSTM=True,Test=False)\n",
    "test = init_to_feature(train_data[:],LSTM=True,Test=True)\n",
    "\n",
    "train_features = train[0]\n",
    "test_features = test[0]\n",
    "\n",
    "trainids = train[1]\n",
    "testids = test[1]"
   ]
  },
  {
   "cell_type": "code",
   "execution_count": 4,
   "id": "c2be110e",
   "metadata": {
    "execution": {
     "iopub.execute_input": "2023-01-28T15:32:11.466750Z",
     "iopub.status.busy": "2023-01-28T15:32:11.466305Z",
     "iopub.status.idle": "2023-01-28T15:32:11.472538Z",
     "shell.execute_reply": "2023-01-28T15:32:11.470535Z"
    },
    "papermill": {
     "duration": 0.015421,
     "end_time": "2023-01-28T15:32:11.475368",
     "exception": false,
     "start_time": "2023-01-28T15:32:11.459947",
     "status": "completed"
    },
    "tags": []
   },
   "outputs": [],
   "source": [
    "#from sklearn.preprocessing import MinMaxScaler\n",
    "#scaler = MinMaxScaler()\n",
    "#train_features = scaler.fit_transform(train_features)\n",
    "#test_features = scaler.fit_transform(test_features)"
   ]
  },
  {
   "cell_type": "code",
   "execution_count": 5,
   "id": "98a354f9",
   "metadata": {
    "execution": {
     "iopub.execute_input": "2023-01-28T15:32:11.487477Z",
     "iopub.status.busy": "2023-01-28T15:32:11.486759Z",
     "iopub.status.idle": "2023-01-28T15:32:11.492769Z",
     "shell.execute_reply": "2023-01-28T15:32:11.491852Z"
    },
    "papermill": {
     "duration": 0.015283,
     "end_time": "2023-01-28T15:32:11.495551",
     "exception": false,
     "start_time": "2023-01-28T15:32:11.480268",
     "status": "completed"
    },
    "tags": []
   },
   "outputs": [],
   "source": [
    "\n",
    "train_target = np.array(train_features[:,1])\n",
    "test_target = np.array(test_features[:,1])\n",
    "\n",
    "train_features = train_features[:,:]\n",
    "test_features = test_features[:,:]\n",
    "\n",
    "train_features= np.c_[ trainids, train_features  ]\n",
    "test_features= np.c_[ testids, test_features  ]\n"
   ]
  },
  {
   "cell_type": "code",
   "execution_count": 6,
   "id": "39fe9f1b",
   "metadata": {
    "execution": {
     "iopub.execute_input": "2023-01-28T15:32:11.508993Z",
     "iopub.status.busy": "2023-01-28T15:32:11.507039Z",
     "iopub.status.idle": "2023-01-28T15:32:11.527694Z",
     "shell.execute_reply": "2023-01-28T15:32:11.526630Z"
    },
    "papermill": {
     "duration": 0.02994,
     "end_time": "2023-01-28T15:32:11.530448",
     "exception": false,
     "start_time": "2023-01-28T15:32:11.500508",
     "status": "completed"
    },
    "tags": []
   },
   "outputs": [],
   "source": [
    "#counties=200\n",
    "#train_data = pd.read_csv('/kaggle/input/godaddy-microbusiness-density-forecasting/train.csv')\n",
    "#test_data = pd.read_csv('/kaggle/input/godaddy-microbusiness-density-forecasting/test.csv')\n",
    "#census_data = pd.read_csv('/kaggle/input/godaddy-microbusiness-density-forecasting/census_starter.csv')\n",
    "#train_data=train_data[:39*counties]\n",
    "#min_date = pd.to_datetime(min(train_data['first_day_of_month']))\n",
    "#max_date = pd.to_datetime(max(train_data['first_day_of_month']))\n",
    "#margin =  ( max_date.to_period('M')  ) \\\n",
    "#                                   - ( min_date.to_period('M')  ) \n",
    "\n",
    "#dict_val = {}\n",
    "#for leng, val in enumerate(train_data.cfips.unique()):\n",
    "#    dict_val[val] = leng\n",
    "    \n",
    "\n",
    "\n",
    "#scaler = StandardScaler()\n",
    "\n",
    "#data for broadband access\n",
    "#census_data.iloc[:,0:5]=scaler.fit_transform(census_data.iloc[:,0:5].to_numpy())\n",
    "\n",
    "#population percent of 4yr degree\n",
    "#census_data.iloc[:,6:11]=scaler.fit_transform(census_data.iloc[:,6:11].to_numpy())\n",
    "\n",
    "#percent of born outside of the US\n",
    "#census_data.iloc[:,11:16]=scaler.fit_transform(census_data.iloc[:,11:16].to_numpy())\n",
    "\n",
    "#percent of IT workers\n",
    "#census_data.iloc[:,16:21]=scaler.fit_transform(census_data.iloc[:,16:21].to_numpy())\n",
    "\n",
    "#income level\n",
    "#census_data.iloc[:,21:26]=scaler.fit_transform(census_data.iloc[:,21:26].to_numpy())\n",
    "\n",
    "\n",
    "#first_column = census_data.pop('cfips')\n",
    "#census_data.insert(0, 'cfips', first_column)\n",
    "#census_data.iloc[:,1:26]=scaler.fit_transform(census_data.iloc[:,1:26].to_numpy())\n",
    "\n",
    "def census_to_train(row,idNum,dataset):\n",
    "    row=row\n",
    "    idNum = idNum\n",
    "    year=pd.to_datetime(train_data['first_day_of_month'][row]).year - 2\n",
    "    temp_cen_data = pd.DataFrame(census_data[census_data['cfips'] == idNum])\n",
    "    \n",
    "    dataset.loc[row,\"pct_bb\"] = float(temp_cen_data[\"pct_bb_\" + str(year)])\n",
    "    dataset.loc[row,\"pct_college\"] = float(temp_cen_data[\"pct_college_\"+ str(year)])\n",
    "    dataset.loc[row,\"pct_foreign_born\"] = float(temp_cen_data[\"pct_foreign_born_\"+ str(year)])\n",
    "    dataset.loc[row,\"pct_it_workers\"] = float(temp_cen_data[\"pct_it_workers_\"+ str(year)])\n",
    "    dataset.loc[row,\"median_hh_inc\"] = float(temp_cen_data[\"median_hh_inc_\"+ str(year)])\n",
    "\n",
    "\n",
    "def init_to_feature(dataset,LSTM=False,Test=False):\n",
    "    #dataset['numMons'] = \" \"\n",
    "    dates = np.array(dataset['first_day_of_month'])\n",
    "\n",
    "    #numMons = ( (pd.to_datetime(dates).to_period('M')   ) \\\n",
    "    #                               - ( min_date.to_period('M')  ) )\n",
    "    #for i in range(len(dataset)):\n",
    "    #    dataset.loc[i,'numMons'] = numMons[i].n +1\n",
    "    dataset['numMons'] = \" \"\n",
    "    months0=np.arange(1,(margin.n)+2,1)\n",
    "    months=[]\n",
    "    for i in range(len(dict_val)):\n",
    "        months=np.concatenate((months,months0))\n",
    "    dataset['numMons'] = months\n",
    "\n",
    "    \n",
    "    \n",
    "    dataset[\"countyID\"] = \" \"\n",
    "    for leng, val in enumerate(dataset['cfips']):\n",
    "        dataset.loc[leng,\"countyID\"] = dict_val[dataset.loc[leng,'cfips']]\n",
    "       \n",
    "    dataset = dataset.sort_values(['countyID', 'numMons'],\\\n",
    "              ascending = [True, True])\n",
    "\n",
    "    dataset[\"pct_bb\"] = \" \"\n",
    "    dataset[\"pct_college\"] = \" \"\n",
    "    dataset[\"pct_foreign_born\"] = \" \"\n",
    "    dataset[\"pct_it_workers\"] = \" \"\n",
    "    dataset[\"median_hh_inc\"] = \" \"\n",
    "\n",
    "    \n",
    "    \n",
    "    for row, idNum in enumerate(tqdm(dataset['cfips'])):\n",
    "         census_to_train(row,idNum,dataset)\n",
    "   \n",
    "    \n",
    "    \n",
    "    \n",
    "    if LSTM==True and Test==False:\n",
    "        new_set=[]\n",
    "        for i in np.arange(0, len(dataset),39):\n",
    "            new_set.append(dataset[i:i+30])\n",
    "        dataset = pd.concat(new_set)\n",
    "        \n",
    "    if LSTM==True and Test==True:\n",
    "        new_set=[]\n",
    "        for i in np.arange(0, len(dataset),39):\n",
    "            new_set.append(dataset[i+30:i+39])\n",
    "        dataset = pd.concat(new_set)\n",
    "    \n",
    "    \n",
    "    features = np.array(dataset[['countyID','numMons','pct_bb','pct_college',\\\n",
    "                               'pct_foreign_born','pct_it_workers','median_hh_inc','microbusiness_density']])\n",
    "\n",
    "    \n",
    "    return features\n",
    "\n",
    "\n",
    "#train_features = init_to_feature(train_data[:],LSTM=True,Test=False)\n",
    "#test_features = init_to_feature(train_data[:],LSTM=True,Test=True)\n",
    "\n",
    "\n",
    "\n",
    "#train_target = np.array(train_features[:,7])\n",
    "#test_target = np.array(test_features[:,7])\n",
    "\n",
    "#train_features = train_features[:,:7]\n",
    "#test_features = test_features[:,:7]\n",
    "\n",
    "\n",
    "\n"
   ]
  },
  {
   "cell_type": "code",
   "execution_count": 7,
   "id": "ec6e762e",
   "metadata": {
    "execution": {
     "iopub.execute_input": "2023-01-28T15:32:11.544164Z",
     "iopub.status.busy": "2023-01-28T15:32:11.542611Z",
     "iopub.status.idle": "2023-01-28T15:32:11.550784Z",
     "shell.execute_reply": "2023-01-28T15:32:11.549305Z"
    },
    "papermill": {
     "duration": 0.017976,
     "end_time": "2023-01-28T15:32:11.553589",
     "exception": false,
     "start_time": "2023-01-28T15:32:11.535613",
     "status": "completed"
    },
    "tags": []
   },
   "outputs": [],
   "source": [
    "#def linreg_data(dataset1, dataset2, Train=True):\n",
    " #   sep_data1=[]\n",
    " #   sep_data2=[]\n",
    " #   \n",
    " #   if Train==True:\n",
    " #       sep_data1.append(dataset1[0:30])\n",
    " #       sep_data2.append(dataset2[0:30])\n",
    " #       for ids in tqdm(range(1,counties)):\n",
    " #           sep_data2.append(dataset2[30*ids:(30*ids)+30])\n",
    " #           sep_data1.append(dataset1[30*ids:(30*ids)+30])\n",
    "\n",
    " #   if Train==False:\n",
    " #       sep_data1.append(dataset1[0:9])\n",
    " #       sep_data2.append(dataset2[0:9])\n",
    " #       for ids in tqdm(range(1,counties)):\n",
    " #           sep_data2.append(dataset2[9*ids:(9*ids)+9])\n",
    " #           sep_data1.append(dataset1[9*ids:(9*ids)+9])\n",
    "    \n",
    " #   sep_data2=np.array(sep_data2)\n",
    " #   sep_data1=np.array(sep_data1)\n",
    "    \n",
    "\n",
    " #   return sep_data1, sep_data2\n",
    "\n",
    "\n",
    "#train_lin,traintar_lin=linreg_data(train_features,train_target)\n",
    "#test_lin,testtar_lin=linreg_data(test_features,test_target, Train=False)\n",
    "\n",
    "#train_lin = np.delete(train_lin,[0,2,3,4,5,6], axis=2)\n",
    "#test_lin = np.delete(test_lin,[0,2,3,4,5,6], axis=2)\n",
    "\n",
    "#train_lin = np.delete(train_lin,[0], axis=2)\n",
    "#test_lin = np.delete(test_lin,[0], axis=2)"
   ]
  },
  {
   "cell_type": "code",
   "execution_count": 8,
   "id": "396661e0",
   "metadata": {
    "execution": {
     "iopub.execute_input": "2023-01-28T15:32:11.566263Z",
     "iopub.status.busy": "2023-01-28T15:32:11.565660Z",
     "iopub.status.idle": "2023-01-28T15:32:11.574349Z",
     "shell.execute_reply": "2023-01-28T15:32:11.572780Z"
    },
    "papermill": {
     "duration": 0.018361,
     "end_time": "2023-01-28T15:32:11.577027",
     "exception": false,
     "start_time": "2023-01-28T15:32:11.558666",
     "status": "completed"
    },
    "tags": []
   },
   "outputs": [],
   "source": [
    "\n",
    "def history_data(dataset1,dataset2, lookback=1):\n",
    "    data_look=[]\n",
    "    data_tar=[]\n",
    "    for i in range(len(dataset1)-lookback):\n",
    "        val1 = dataset1[i:(i+lookback),:] \n",
    "        val2 = dataset2[i+lookback] \n",
    "        data_look.append(val1)\n",
    "        data_tar.append(val2)\n",
    "    return np.array(data_look), np.array(data_tar)"
   ]
  },
  {
   "cell_type": "code",
   "execution_count": 9,
   "id": "8f2cbc17",
   "metadata": {
    "execution": {
     "iopub.execute_input": "2023-01-28T15:32:11.590886Z",
     "iopub.status.busy": "2023-01-28T15:32:11.590215Z",
     "iopub.status.idle": "2023-01-28T15:32:11.597786Z",
     "shell.execute_reply": "2023-01-28T15:32:11.596697Z"
    },
    "papermill": {
     "duration": 0.018195,
     "end_time": "2023-01-28T15:32:11.600674",
     "exception": false,
     "start_time": "2023-01-28T15:32:11.582479",
     "status": "completed"
    },
    "tags": []
   },
   "outputs": [],
   "source": [
    "def lookback_data(ids,featureset,targetset):\n",
    "   \n",
    "    dataset1 = featureset[featureset[:,0]==ids]\n",
    "    dataset2 = targetset[featureset[:,0]==ids]\n",
    "    rnnset, tar_rnn = history_data(dataset1,dataset2,2)\n",
    "\n",
    "    rnnset = np.delete(rnnset,[0,1], axis=2)\n",
    "    #rnnset = np.delete(rnnset,[0,2,3,4,5,6], axis=2)\n",
    "    rnnset = np.reshape(rnnset, (rnnset.shape[0],rnnset.shape[1],1   ))\n",
    "    rnnset = rnnset.astype(float)\n",
    "    \n",
    "    return rnnset, tar_rnn"
   ]
  },
  {
   "cell_type": "code",
   "execution_count": 10,
   "id": "3d974843",
   "metadata": {
    "execution": {
     "iopub.execute_input": "2023-01-28T15:32:11.613080Z",
     "iopub.status.busy": "2023-01-28T15:32:11.612631Z",
     "iopub.status.idle": "2023-01-28T15:32:11.623888Z",
     "shell.execute_reply": "2023-01-28T15:32:11.622309Z"
    },
    "papermill": {
     "duration": 0.02199,
     "end_time": "2023-01-28T15:32:11.627681",
     "exception": false,
     "start_time": "2023-01-28T15:32:11.605691",
     "status": "completed"
    },
    "tags": []
   },
   "outputs": [],
   "source": [
    "from tensorflow import keras\n",
    "predictions=list(np.zeros(counties))\n",
    "trues=list(np.zeros(counties))\n",
    "\n",
    "predictionsList=[]\n",
    "def lstm_model(ids):\n",
    "    \n",
    "    \n",
    "    \n",
    "    model = Sequential()\n",
    "    model.add(LSTM(units=200,input_shape=(2,1)))\n",
    "    model.add(Dense(1))\n",
    "    model.compile(optimizer=keras.optimizers.Adam(0.001), loss='mean_squared_error')\n",
    "\n",
    "    train_rnn, traintar_rnn = lookback_data(ids,train_features,train_target )\n",
    "    model.fit(train_rnn,traintar_rnn,epochs=300,batch_size=32,verbose=0)\n",
    "   \n",
    "    \n",
    "    preds=[]\n",
    "    truss =[]\n",
    "    for i in range(9):\n",
    "        test_rnn, testtar_rnn = lookback_data(ids,test_features,test_target )\n",
    "        preds.append(model.predict(test_rnn[i:i+1]))\n",
    "        truss.append(testtar_rnn[i])\n",
    "        test_features[:,2][i+2] = model.predict(test_rnn[i:i+1])\n",
    "    preds=np.array(preds)\n",
    "    preds=np.reshape(preds,len(preds))\n",
    "    predictions[ids]= preds\n",
    "    trues[ids]=truss\n"
   ]
  },
  {
   "cell_type": "code",
   "execution_count": 11,
   "id": "0d092639",
   "metadata": {
    "execution": {
     "iopub.execute_input": "2023-01-28T15:32:11.640616Z",
     "iopub.status.busy": "2023-01-28T15:32:11.640169Z",
     "iopub.status.idle": "2023-01-28T15:32:11.645512Z",
     "shell.execute_reply": "2023-01-28T15:32:11.644113Z"
    },
    "papermill": {
     "duration": 0.014629,
     "end_time": "2023-01-28T15:32:11.647939",
     "exception": false,
     "start_time": "2023-01-28T15:32:11.633310",
     "status": "completed"
    },
    "tags": []
   },
   "outputs": [],
   "source": [
    "\n",
    "#predictions=list(np.zeros(counties))\n",
    "#trues=list(np.zeros(counties))\n",
    "#from sklearn.linear_model import LinearRegression\n",
    "#from sklearn.preprocessing import PolynomialFeatures\n",
    "#import xgboost as xg\n",
    "\n",
    "#def linreg_model(ids):\n",
    "#    poly = PolynomialFeatures(degree = 1)\n",
    "\n",
    "#    train_linpoly = poly.fit_transform(train_lin[ids])\n",
    "#    test_linpoly = poly.fit_transform(test_lin[ids])\n",
    "    \n",
    "    #reg = LinearRegression()\n",
    "    \n",
    "#    reg = xg.XGBRegressor()\n",
    "#    reg.fit(train_linpoly,traintar_lin[ids])\n",
    "#    \n",
    "#    predictions[ids] = reg.predict(test_linpoly)\n",
    "#    trues[ids] = testtar_lin[ids]\n",
    "    \n"
   ]
  },
  {
   "cell_type": "code",
   "execution_count": 12,
   "id": "7e3736a4",
   "metadata": {
    "execution": {
     "iopub.execute_input": "2023-01-28T15:32:11.660625Z",
     "iopub.status.busy": "2023-01-28T15:32:11.659901Z",
     "iopub.status.idle": "2023-01-28T15:33:17.515382Z",
     "shell.execute_reply": "2023-01-28T15:33:17.514131Z"
    },
    "papermill": {
     "duration": 65.871083,
     "end_time": "2023-01-28T15:33:17.524479",
     "exception": false,
     "start_time": "2023-01-28T15:32:11.653396",
     "status": "completed"
    },
    "tags": []
   },
   "outputs": [
    {
     "name": "stderr",
     "output_type": "stream",
     "text": [
      "  0%|          | 0/10 [00:00<?, ?it/s]2023-01-28 15:32:11.712893: I tensorflow/core/common_runtime/process_util.cc:146] Creating new thread pool with default inter op setting: 2. Tune using inter_op_parallelism_threads for best performance.\n",
      "2023-01-28 15:32:12.263769: I tensorflow/compiler/mlir/mlir_graph_optimization_pass.cc:185] None of the MLIR Optimization Passes are enabled (registered 2)\n",
      "100%|██████████| 10/10 [01:05<00:00,  6.58s/it]\n"
     ]
    }
   ],
   "source": [
    "for ids in tqdm(range(0,counties)):\n",
    "    lstm_model(ids)\n",
    "    #linreg_model(ids)\n",
    "    "
   ]
  },
  {
   "cell_type": "code",
   "execution_count": 13,
   "id": "054e2c48",
   "metadata": {
    "execution": {
     "iopub.execute_input": "2023-01-28T15:33:17.537948Z",
     "iopub.status.busy": "2023-01-28T15:33:17.537538Z",
     "iopub.status.idle": "2023-01-28T15:33:17.546154Z",
     "shell.execute_reply": "2023-01-28T15:33:17.544480Z"
    },
    "papermill": {
     "duration": 0.019336,
     "end_time": "2023-01-28T15:33:17.549688",
     "exception": false,
     "start_time": "2023-01-28T15:33:17.530352",
     "status": "completed"
    },
    "tags": []
   },
   "outputs": [
    {
     "name": "stdout",
     "output_type": "stream",
     "text": [
      "SMAPE:  2.7288401387787027\n"
     ]
    }
   ],
   "source": [
    "counter=0\n",
    "summ=0\n",
    "for tr1,pred1 in zip(trues,predictions):\n",
    "    for tr2, pred2 in zip(tr1,pred1):\n",
    "        summ+= abs((-tr2+pred2)/((abs(tr2)+abs(pred2))/2) )\n",
    "        counter+=1\n",
    "print('SMAPE: ', summ*100/counter)"
   ]
  },
  {
   "cell_type": "code",
   "execution_count": 14,
   "id": "88f19a7e",
   "metadata": {
    "execution": {
     "iopub.execute_input": "2023-01-28T15:33:17.564965Z",
     "iopub.status.busy": "2023-01-28T15:33:17.564294Z",
     "iopub.status.idle": "2023-01-28T15:33:17.570993Z",
     "shell.execute_reply": "2023-01-28T15:33:17.570069Z"
    },
    "papermill": {
     "duration": 0.017569,
     "end_time": "2023-01-28T15:33:17.573334",
     "exception": false,
     "start_time": "2023-01-28T15:33:17.555765",
     "status": "completed"
    },
    "tags": []
   },
   "outputs": [
    {
     "name": "stdout",
     "output_type": "stream",
     "text": [
      "[1.2366498, 1.2647555, 1.2535132, 1.247892, 1.2759978, 1.3265879, 1.2928611, 1.3153456, 1.28724] [1.2177308 1.2255595 1.2445664 1.2578659 1.2502546 1.2534451 1.2807639\n",
      " 1.3017347 1.2877493]\n"
     ]
    }
   ],
   "source": [
    "print(trues[3],predictions[3])"
   ]
  },
  {
   "cell_type": "code",
   "execution_count": 15,
   "id": "8b85f9ad",
   "metadata": {
    "execution": {
     "iopub.execute_input": "2023-01-28T15:33:17.587909Z",
     "iopub.status.busy": "2023-01-28T15:33:17.587172Z",
     "iopub.status.idle": "2023-01-28T15:33:17.885360Z",
     "shell.execute_reply": "2023-01-28T15:33:17.883581Z"
    },
    "papermill": {
     "duration": 0.309283,
     "end_time": "2023-01-28T15:33:17.888574",
     "exception": false,
     "start_time": "2023-01-28T15:33:17.579291",
     "status": "completed"
    },
    "tags": []
   },
   "outputs": [
    {
     "data": {
      "text/plain": [
       "[<matplotlib.lines.Line2D at 0x7f6e0a54a0d0>]"
      ]
     },
     "execution_count": 15,
     "metadata": {},
     "output_type": "execute_result"
    },
    {
     "data": {
      "image/png": "[encoded data removed]",
      "text/plain": [
       "<Figure size 432x288 with 1 Axes>"
      ]
     },
     "metadata": {
      "needs_background": "light"
     },
     "output_type": "display_data"
    }
   ],
   "source": [
    "idNum = 3\n",
    "\n",
    "\n",
    "predictions= np.array(predictions)\n",
    "predictionsTrans = predictions.reshape(len(predictions),9)\n",
    "\n",
    "\n",
    "trueVals = np.concatenate((np.array(train_target[idNum*30:(idNum+1)*30]), np.array(trues[idNum])))\n",
    "predVals = np.concatenate((np.array(train_target[idNum*30:(idNum+1)*30]), np.array(predictionsTrans[idNum])))\n",
    "\n",
    "\n",
    "\n",
    "\n",
    "plt.plot(range(39),trueVals)\n",
    "plt.plot(np.arange(30,39,1),predictionsTrans[idNum],color='orange')"
   ]
  }
 ],
 "metadata": {
  "kernelspec": {
   "display_name": "Python 3",
   "language": "python",
   "name": "python3"
  },
  "language_info": {
   "codemirror_mode": {
    "name": "ipython",
    "version": 3
   },
   "file_extension": ".py",
   "mimetype": "text/x-python",
   "name": "python",
   "nbconvert_exporter": "python",
   "pygments_lexer": "ipython3",
   "version": "3.7.12"
  },
  "papermill": {
   "default_parameters": {},
   "duration": 90.331469,
   "end_time": "2023-01-28T15:33:20.605803",
   "environment_variables": {},
   "exception": null,
   "input_path": "__notebook__.ipynb",
   "output_path": "__notebook__.ipynb",
   "parameters": {},
   "start_time": "2023-01-28T15:31:50.274334",
   "version": "2.3.4"
  }
 },
 "nbformat": 4,
 "nbformat_minor": 5
}
