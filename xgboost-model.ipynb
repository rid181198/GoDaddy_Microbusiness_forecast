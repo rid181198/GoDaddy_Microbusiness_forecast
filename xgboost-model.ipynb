{
 "cells": [
  {
   "cell_type": "code",
   "execution_count": 1,
   "id": "cfce22c0",
   "metadata": {
    "execution": {
     "iopub.execute_input": "2023-03-01T16:55:38.360716Z",
     "iopub.status.busy": "2023-03-01T16:55:38.360083Z",
     "iopub.status.idle": "2023-03-01T16:55:45.527708Z",
     "shell.execute_reply": "2023-03-01T16:55:45.526505Z"
    },
    "papermill": {
     "duration": 7.179809,
     "end_time": "2023-03-01T16:55:45.530981",
     "exception": false,
     "start_time": "2023-03-01T16:55:38.351172",
     "status": "completed"
    },
    "tags": []
   },
   "outputs": [
    {
     "name": "stdout",
     "output_type": "stream",
     "text": [
      "xgboost 1.6.2\n"
     ]
    }
   ],
   "source": [
    "import numpy as np\n",
    "import pandas as pd\n",
    "import matplotlib.pyplot as plt\n",
    "from tqdm import tqdm\n",
    "import tensorflow as tf\n",
    "from joblib import Parallel, delayed\n",
    "from tensorflow.keras.models import Sequential\n",
    "from tensorflow.keras.layers import Dense\n",
    "from tensorflow.keras.layers import LSTM\n",
    "from keras.models import Sequential\n",
    "from sklearn.preprocessing import MinMaxScaler, StandardScaler, RobustScaler\n",
    "from keras.layers import Dense, LSTM, Dropout\n",
    "import xgboost\n",
    "from xgboost import XGBRegressor\n",
    "print(\"xgboost\", xgboost.__version__)\n",
    "import warnings\n",
    "warnings.filterwarnings(\"ignore\")"
   ]
  },
  {
   "cell_type": "markdown",
   "id": "3756b42c",
   "metadata": {
    "papermill": {
     "duration": 0.005433,
     "end_time": "2023-03-01T16:55:45.543485",
     "exception": false,
     "start_time": "2023-03-01T16:55:45.538052",
     "status": "completed"
    },
    "tags": []
   },
   "source": [
    "# Data visualization"
   ]
  },
  {
   "cell_type": "markdown",
   "id": "91450838",
   "metadata": {
    "papermill": {
     "duration": 0.005231,
     "end_time": "2023-03-01T16:55:45.554206",
     "exception": false,
     "start_time": "2023-03-01T16:55:45.548975",
     "status": "completed"
    },
    "tags": []
   },
   "source": [
    "## Loading the data"
   ]
  },
  {
   "cell_type": "code",
   "execution_count": 2,
   "id": "5a3a6667",
   "metadata": {
    "execution": {
     "iopub.execute_input": "2023-03-01T16:55:45.567443Z",
     "iopub.status.busy": "2023-03-01T16:55:45.566740Z",
     "iopub.status.idle": "2023-03-01T16:55:45.923473Z",
     "shell.execute_reply": "2023-03-01T16:55:45.922446Z"
    },
    "papermill": {
     "duration": 0.366571,
     "end_time": "2023-03-01T16:55:45.926310",
     "exception": false,
     "start_time": "2023-03-01T16:55:45.559739",
     "status": "completed"
    },
    "tags": []
   },
   "outputs": [],
   "source": [
    "train_visuals = pd.read_csv('/kaggle/input/godaddy-microbusiness-density-forecasting/train.csv')\n",
    "train_suppl = pd.read_csv('/kaggle/input/godaddy-microbusiness-density-forecasting/census_starter.csv')\n",
    "revealed_test = pd.read_csv('/kaggle/input/godaddy-microbusiness-density-forecasting/revealed_test.csv')"
   ]
  },
  {
   "cell_type": "code",
   "execution_count": 3,
   "id": "f4cdd316",
   "metadata": {
    "execution": {
     "iopub.execute_input": "2023-03-01T16:55:45.939662Z",
     "iopub.status.busy": "2023-03-01T16:55:45.939206Z",
     "iopub.status.idle": "2023-03-01T16:55:45.945342Z",
     "shell.execute_reply": "2023-03-01T16:55:45.944542Z"
    },
    "papermill": {
     "duration": 0.01573,
     "end_time": "2023-03-01T16:55:45.947718",
     "exception": false,
     "start_time": "2023-03-01T16:55:45.931988",
     "status": "completed"
    },
    "tags": []
   },
   "outputs": [
    {
     "name": "stdout",
     "output_type": "stream",
     "text": [
      "Train data columns:  Index(['row_id', 'cfips', 'county', 'state', 'first_day_of_month',\n",
      "       'microbusiness_density', 'active'],\n",
      "      dtype='object')\n",
      "Census data columns:  Index(['pct_bb_2017', 'pct_bb_2018', 'pct_bb_2019', 'pct_bb_2020',\n",
      "       'pct_bb_2021', 'cfips', 'pct_college_2017', 'pct_college_2018',\n",
      "       'pct_college_2019', 'pct_college_2020', 'pct_college_2021',\n",
      "       'pct_foreign_born_2017', 'pct_foreign_born_2018',\n",
      "       'pct_foreign_born_2019', 'pct_foreign_born_2020',\n",
      "       'pct_foreign_born_2021', 'pct_it_workers_2017', 'pct_it_workers_2018',\n",
      "       'pct_it_workers_2019', 'pct_it_workers_2020', 'pct_it_workers_2021',\n",
      "       'median_hh_inc_2017', 'median_hh_inc_2018', 'median_hh_inc_2019',\n",
      "       'median_hh_inc_2020', 'median_hh_inc_2021'],\n",
      "      dtype='object')\n",
      "Revealed data columns:  Index(['row_id', 'cfips', 'county', 'state', 'first_day_of_month',\n",
      "       'microbusiness_density', 'active'],\n",
      "      dtype='object')\n"
     ]
    }
   ],
   "source": [
    "print(\"Train data columns: \", train_visuals.columns)\n",
    "print(\"Census data columns: \", train_suppl.columns)\n",
    "print(\"Revealed data columns: \", revealed_test.columns)"
   ]
  },
  {
   "cell_type": "markdown",
   "id": "018acdc2",
   "metadata": {
    "papermill": {
     "duration": 0.005391,
     "end_time": "2023-03-01T16:55:45.958905",
     "exception": false,
     "start_time": "2023-03-01T16:55:45.953514",
     "status": "completed"
    },
    "tags": []
   },
   "source": [
    "### Converting the dates to days"
   ]
  },
  {
   "cell_type": "markdown",
   "id": "faaffdd2",
   "metadata": {
    "papermill": {
     "duration": 0.005325,
     "end_time": "2023-03-01T16:55:45.970065",
     "exception": false,
     "start_time": "2023-03-01T16:55:45.964740",
     "status": "completed"
    },
    "tags": []
   },
   "source": [
    "Combining the `revealed data` and `train data` and then converting `cfips` and `first_day_of_month` to the ascending order integers."
   ]
  },
  {
   "cell_type": "code",
   "execution_count": 4,
   "id": "371e4c02",
   "metadata": {
    "execution": {
     "iopub.execute_input": "2023-03-01T16:55:45.983841Z",
     "iopub.status.busy": "2023-03-01T16:55:45.982738Z",
     "iopub.status.idle": "2023-03-01T17:01:14.291416Z",
     "shell.execute_reply": "2023-03-01T17:01:14.289908Z"
    },
    "papermill": {
     "duration": 328.317989,
     "end_time": "2023-03-01T17:01:14.293727",
     "exception": false,
     "start_time": "2023-03-01T16:55:45.975738",
     "status": "completed"
    },
    "tags": []
   },
   "outputs": [
    {
     "name": "stderr",
     "output_type": "stream",
     "text": [
      "100%|██████████| 128535/128535 [05:28<00:00, 391.83it/s]\n"
     ]
    }
   ],
   "source": [
    "#combining two datasets\n",
    "train_data = pd.concat([train_visuals, revealed_test])\n",
    "\n",
    "\n",
    "#assigning the minimum and maximum data for the conversion\n",
    "min_date = pd.to_datetime(min(train_data['first_day_of_month']))\n",
    "max_date = pd.to_datetime(max(train_data['first_day_of_month']))\n",
    "margin =  ( max_date.to_period('M')  ) \\\n",
    "                                   - ( min_date.to_period('M')  ) \n",
    "\n",
    "\n",
    "#sorting out the data according to counties and first_day_of_month\n",
    "train_data = train_data.sort_values(['cfips', 'first_day_of_month'],\\\n",
    "              ascending = [True, True])\n",
    "train_data = train_data.reset_index()\n",
    "\n",
    "#creating a dictionary of unique IDs in ascending order\n",
    "dict_val = {}\n",
    "for leng, val in enumerate(train_data.cfips.unique()):\n",
    "    dict_val[val] = leng\n",
    "\n",
    "    \n",
    "dates = np.array(train_data['first_day_of_month'])\n",
    "train_data['numMons'] = \" \"\n",
    "months0=np.arange(1,margin.n+2,1)\n",
    "months=[]\n",
    "for i in range(len(dict_val)):\n",
    "    months=np.concatenate((months,months0))\n",
    "train_data['numMons'] = months\n",
    "train_data[\"countyID\"] = \" \"\n",
    "\n",
    "\n",
    "for leng, val in enumerate(tqdm(train_data['cfips'])):\n",
    "    train_data.loc[leng,\"countyID\"] = dict_val[train_data.loc[leng,'cfips']]"
   ]
  },
  {
   "cell_type": "markdown",
   "id": "c2638a05",
   "metadata": {
    "papermill": {
     "duration": 0.19594,
     "end_time": "2023-03-01T17:01:14.753421",
     "exception": false,
     "start_time": "2023-03-01T17:01:14.557481",
     "status": "completed"
    },
    "tags": []
   },
   "source": [
    "### Plotting the target variable `microbusiness density`"
   ]
  },
  {
   "cell_type": "code",
   "execution_count": 5,
   "id": "8d984960",
   "metadata": {
    "execution": {
     "iopub.execute_input": "2023-03-01T17:01:15.148995Z",
     "iopub.status.busy": "2023-03-01T17:01:15.148598Z",
     "iopub.status.idle": "2023-03-01T17:01:15.584765Z",
     "shell.execute_reply": "2023-03-01T17:01:15.583603Z"
    },
    "papermill": {
     "duration": 0.635733,
     "end_time": "2023-03-01T17:01:15.587329",
     "exception": false,
     "start_time": "2023-03-01T17:01:14.951596",
     "status": "completed"
    },
    "tags": []
   },
   "outputs": [
    {
     "data": {
      "image/png": "[encoded data removed]",
      "text/plain": [
       "<Figure size 432x288 with 1 Axes>"
      ]
     },
     "metadata": {
      "needs_background": "light"
     },
     "output_type": "display_data"
    }
   ],
   "source": [
    "countyId = [0,50, 200,100, 500, 1000, 2000, 3000]\n",
    "for i in countyId:\n",
    "    tempdata = train_data[train_data['countyID'] == i]\n",
    "    plt.plot(tempdata['numMons'], tempdata['microbusiness_density'], label=str(i))\n",
    "    plt.legend()"
   ]
  },
  {
   "cell_type": "markdown",
   "id": "d2d72c0c",
   "metadata": {
    "papermill": {
     "duration": 0.197114,
     "end_time": "2023-03-01T17:01:15.978593",
     "exception": false,
     "start_time": "2023-03-01T17:01:15.781479",
     "status": "completed"
    },
    "tags": []
   },
   "source": [
    "There are extreme values like here for `countyID` 2000 and due to this reason, I have fitted the model for each county"
   ]
  },
  {
   "cell_type": "markdown",
   "id": "008cfac1",
   "metadata": {
    "papermill": {
     "duration": 0.192855,
     "end_time": "2023-03-01T17:01:16.364976",
     "exception": false,
     "start_time": "2023-03-01T17:01:16.172121",
     "status": "completed"
    },
    "tags": []
   },
   "source": [
    "### Now, plotting the sum of `microbusiness density` for all counties per each month to see if there is any anomaly for the particular month."
   ]
  },
  {
   "cell_type": "code",
   "execution_count": 6,
   "id": "4a78e811",
   "metadata": {
    "execution": {
     "iopub.execute_input": "2023-03-01T17:01:16.757735Z",
     "iopub.status.busy": "2023-03-01T17:01:16.757197Z",
     "iopub.status.idle": "2023-03-01T17:01:16.918907Z",
     "shell.execute_reply": "2023-03-01T17:01:16.918059Z"
    },
    "papermill": {
     "duration": 0.360022,
     "end_time": "2023-03-01T17:01:16.921018",
     "exception": false,
     "start_time": "2023-03-01T17:01:16.560996",
     "status": "completed"
    },
    "tags": []
   },
   "outputs": [
    {
     "data": {
      "text/plain": [
       "[<matplotlib.lines.Line2D at 0x7f7830f61850>]"
      ]
     },
     "execution_count": 6,
     "metadata": {},
     "output_type": "execute_result"
    },
    {
     "data": {
      "image/png": "[encoded data removed]",
      "text/plain": [
       "<Figure size 432x288 with 1 Axes>"
      ]
     },
     "metadata": {
      "needs_background": "light"
     },
     "output_type": "display_data"
    }
   ],
   "source": [
    "groups = train_data.groupby('numMons')['microbusiness_density'].sum().reset_index()\n",
    "plt.plot(groups['numMons'], groups['microbusiness_density'])"
   ]
  },
  {
   "cell_type": "markdown",
   "id": "c3661faf",
   "metadata": {
    "papermill": {
     "duration": 0.193785,
     "end_time": "2023-03-01T17:01:17.308278",
     "exception": false,
     "start_time": "2023-03-01T17:01:17.114493",
     "status": "completed"
    },
    "tags": []
   },
   "source": [
    "Overall, the `microbusiness density` is increasing with time. But at the time step 18, there is a large decreasing behaviour. For each county, this shouldn't be a problem."
   ]
  },
  {
   "cell_type": "code",
   "execution_count": null,
   "id": "dfdb6e83",
   "metadata": {
    "papermill": {
     "duration": 0.194128,
     "end_time": "2023-03-01T17:01:17.696723",
     "exception": false,
     "start_time": "2023-03-01T17:01:17.502595",
     "status": "completed"
    },
    "tags": []
   },
   "outputs": [],
   "source": []
  },
  {
   "cell_type": "markdown",
   "id": "af097514",
   "metadata": {
    "papermill": {
     "duration": 0.194349,
     "end_time": "2023-03-01T17:01:18.140271",
     "exception": false,
     "start_time": "2023-03-01T17:01:17.945922",
     "status": "completed"
    },
    "tags": []
   },
   "source": [
    "# Data featuring"
   ]
  },
  {
   "cell_type": "markdown",
   "id": "c1d70161",
   "metadata": {
    "papermill": {
     "duration": 0.19432,
     "end_time": "2023-03-01T17:01:18.528974",
     "exception": false,
     "start_time": "2023-03-01T17:01:18.334654",
     "status": "completed"
    },
    "tags": []
   },
   "source": [
    "#### Firstly, splitting the data into train, test for verification"
   ]
  },
  {
   "cell_type": "code",
   "execution_count": 7,
   "id": "1bd4e983",
   "metadata": {
    "_cell_guid": "b1076dfc-b9ad-4769-8c92-a6c4dae69d19",
    "_uuid": "8f2839f25d086af736a60e9eeb907d3b93b6e0e5",
    "execution": {
     "iopub.execute_input": "2023-03-01T17:01:18.921762Z",
     "iopub.status.busy": "2023-03-01T17:01:18.920860Z",
     "iopub.status.idle": "2023-03-01T17:01:18.933993Z",
     "shell.execute_reply": "2023-03-01T17:01:18.932578Z"
    },
    "papermill": {
     "duration": 0.214556,
     "end_time": "2023-03-01T17:01:18.936416",
     "exception": false,
     "start_time": "2023-03-01T17:01:18.721860",
     "status": "completed"
    },
    "tags": []
   },
   "outputs": [
    {
     "name": "stdout",
     "output_type": "stream",
     "text": [
      "   index           row_id  cfips          county    state first_day_of_month  \\\n",
      "0      0  1001_2019-08-01   1001  Autauga County  Alabama         2019-08-01   \n",
      "1      1  1001_2019-09-01   1001  Autauga County  Alabama         2019-09-01   \n",
      "2      2  1001_2019-10-01   1001  Autauga County  Alabama         2019-10-01   \n",
      "3      3  1001_2019-11-01   1001  Autauga County  Alabama         2019-11-01   \n",
      "4      4  1001_2019-12-01   1001  Autauga County  Alabama         2019-12-01   \n",
      "\n",
      "   microbusiness_density  active  numMons countyID  \n",
      "0               3.007682    1249      1.0        0  \n",
      "1               2.884870    1198      2.0        0  \n",
      "2               3.055843    1269      3.0        0  \n",
      "3               2.993233    1243      4.0        0  \n",
      "4               2.993233    1243      5.0        0  \n"
     ]
    }
   ],
   "source": [
    "counties=100\n",
    "train_data_short =train_data[:41*counties]\n",
    "print(train_data_short.head())"
   ]
  },
  {
   "cell_type": "markdown",
   "id": "69edee9e",
   "metadata": {
    "papermill": {
     "duration": 0.193643,
     "end_time": "2023-03-01T17:01:19.323739",
     "exception": false,
     "start_time": "2023-03-01T17:01:19.130096",
     "status": "completed"
    },
    "tags": []
   },
   "source": [
    "Separating each county data to different elements so we can train it separately."
   ]
  },
  {
   "cell_type": "code",
   "execution_count": 8,
   "id": "5a7be987",
   "metadata": {
    "execution": {
     "iopub.execute_input": "2023-03-01T17:01:19.794190Z",
     "iopub.status.busy": "2023-03-01T17:01:19.793771Z",
     "iopub.status.idle": "2023-03-01T17:01:19.804538Z",
     "shell.execute_reply": "2023-03-01T17:01:19.803667Z"
    },
    "papermill": {
     "duration": 0.21195,
     "end_time": "2023-03-01T17:01:19.806632",
     "exception": false,
     "start_time": "2023-03-01T17:01:19.594682",
     "status": "completed"
    },
    "tags": []
   },
   "outputs": [],
   "source": [
    "eachCountyData=[]\n",
    "loopInd = np.arange(0,41*(counties+1),41)\n",
    "for ind in range(len(loopInd)-1):\n",
    "    eachCountyData.append(train_data_short.iloc[loopInd[ind]:loopInd[ind+1],:])"
   ]
  },
  {
   "cell_type": "code",
   "execution_count": 9,
   "id": "41172350",
   "metadata": {
    "execution": {
     "iopub.execute_input": "2023-03-01T17:01:20.200577Z",
     "iopub.status.busy": "2023-03-01T17:01:20.199644Z",
     "iopub.status.idle": "2023-03-01T17:01:20.219827Z",
     "shell.execute_reply": "2023-03-01T17:01:20.218644Z"
    },
    "papermill": {
     "duration": 0.220107,
     "end_time": "2023-03-01T17:01:20.222353",
     "exception": false,
     "start_time": "2023-03-01T17:01:20.002246",
     "status": "completed"
    },
    "tags": []
   },
   "outputs": [],
   "source": [
    "def difference(dataset, interval=[1,2,3,4,5]):\n",
    "    diff = list()\n",
    "    for j in interval:\n",
    "        temp=[]\n",
    "        for i in range(j, len(dataset)):\n",
    "            value = dataset[i] - dataset[i - j]\n",
    "            temp.append(value)\n",
    "        diff.append(pd.Series(temp))\n",
    "    diff = pd.concat(diff, axis=1)\n",
    "    return diff.values\n",
    "\n",
    "def timeseries_to_supervised(dataset, lag=1):\n",
    "    df = pd.DataFrame(dataset)\n",
    "    columns = [df.shift(i) for i in range(1, lag+1)]\n",
    "    columns.append(df)\n",
    "    df = pd.concat(columns, axis=1)\n",
    "    df.fillna(0, inplace=True)\n",
    "    return df.values\n",
    "\n",
    "def splitTestTrain(dataset, breakpoint=35):\n",
    "    trainSetTar = dataset[0:breakpoint]\n",
    "    testSetTar = dataset[breakpoint:41]\n",
    "\n",
    "    return trainSetTar, testSetTar\n",
    "\n",
    "def scale(train, test):\n",
    "    # fit scaler\n",
    "    scaler = RobustScaler()\n",
    "    #scaler=MinMaxScaler()\n",
    "    \n",
    "    scaler = scaler.fit(train)\n",
    "    # transform train\n",
    "    train = train.reshape(train.shape[0], train.shape[1])\n",
    "    train_scaled = scaler.transform(train)\n",
    "    # transform test\n",
    "    test = test.reshape(test.shape[0], test.shape[1])\n",
    "    test_scaled = scaler.transform(test)\n",
    "    return scaler, train_scaled, test_scaled\n",
    "\n",
    "def fit_xgboost(train, n_estimators=1000):\n",
    "    X, y = train[:, 0:-1], train[:, -1]\n",
    "    #model = XGBRegressor(objective='reg:squarederror', n_estimators=n_estimators)\n",
    "    model = XGBRegressor(\n",
    "         objective='reg:pseudohubererror',\n",
    "         tree_method=\"hist\",\n",
    "         n_estimators=795,\n",
    "         learning_rate=0.075,\n",
    "         max_leaves = 17,\n",
    "         subsample=0.50,\n",
    "         colsample_bytree=0.50,\n",
    "         max_bin=4096,\n",
    "         n_jobs=2,\n",
    "         eval_metric='mape')\n",
    "         #early_stopping_rounds=70\n",
    "    model.fit(X,y)\n",
    "    return model\n",
    "def forecast_xgboost(model, test):\n",
    "    X = test[:, 0:-1]\n",
    "    yhat = model.predict(X)\n",
    "    return yhat\n",
    "\n",
    "def invert_scale(scaler, test_scaled, predictions_scaled):\n",
    "    temparr1 = np.array(test_scaled[:,0:-1])\n",
    "    temparr2 = np.array(predictions_scaled).reshape(len(predictions_scaled), 1)\n",
    "    temp_scaled = np.hstack( (temparr1, temparr2) )\n",
    "    unscaled = scaler.inverse_transform(temp_scaled)[:,-1]\n",
    "    return unscaled\n",
    "\n",
    "def inverse_difference(history, yhat, test_scaled, interval=1):\n",
    "    final_pred=[]\n",
    "    for i in range(len(test_scaled)):\n",
    "        final_pred.append(yhat[i] + history[-(len(test_scaled) + interval - i)])\n",
    "    return np.array(final_pred)\n",
    "\n",
    "\n",
    "\n",
    "\n",
    "\n",
    "def fit_lstm(train, batch_size, nb_epoch, neurons):\n",
    "    X, y = train[:, 0:-1], train[:, -1]\n",
    "    X = X.reshape(X.shape[0], 1, X.shape[1])\n",
    "   \n",
    "    model = Sequential()\n",
    "    model.add(LSTM(neurons, batch_input_shape=(batch_size, X.shape[1], X.shape[2]), stateful=True))\n",
    "    model.add(Dense(1))\n",
    "    model.compile(loss='mean_squared_error', optimizer='adam')\n",
    "    for i in range(nb_epoch):\n",
    "         model.fit(X, y, epochs=10, batch_size=batch_size, verbose=0, shuffle=False)\n",
    "    #model.reset_states()\n",
    "    \n",
    "    return model\n",
    "\n",
    " \n",
    "\n",
    "\n"
   ]
  },
  {
   "cell_type": "code",
   "execution_count": 10,
   "id": "915f7680",
   "metadata": {
    "execution": {
     "iopub.execute_input": "2023-03-01T17:01:20.616121Z",
     "iopub.status.busy": "2023-03-01T17:01:20.615140Z",
     "iopub.status.idle": "2023-03-01T17:05:33.241994Z",
     "shell.execute_reply": "2023-03-01T17:05:33.240609Z"
    },
    "papermill": {
     "duration": 252.830092,
     "end_time": "2023-03-01T17:05:33.244340",
     "exception": false,
     "start_time": "2023-03-01T17:01:20.414248",
     "status": "completed"
    },
    "tags": []
   },
   "outputs": [
    {
     "name": "stderr",
     "output_type": "stream",
     "text": [
      "100%|██████████| 100/100 [04:12<00:00,  2.53s/it]\n"
     ]
    }
   ],
   "source": [
    "trues=[]\n",
    "preds=[]\n",
    "for county in tqdm(range(len(eachCountyData))):\n",
    "    traindataTar = eachCountyData[county]['microbusiness_density'].values\n",
    "    diff_values = difference(traindataTar,interval=[1])\n",
    "    supervised = timeseries_to_supervised(diff_values, 1)\n",
    "    train, test = splitTestTrain(supervised, breakpoint=35)\n",
    "    scaler, train_scaled, test_scaled = scale(train, test)\n",
    "    model = fit_xgboost(train_scaled)\n",
    "    predictions_scaled = forecast_xgboost(model,test_scaled)\n",
    "    unscaled = invert_scale(scaler, test_scaled, predictions_scaled)\n",
    "    final_pred = inverse_difference(traindataTar, unscaled, test_scaled, interval=1)\n",
    "\n",
    "    trues.append(traindataTar[35:40])\n",
    "    preds.append(final_pred)"
   ]
  },
  {
   "cell_type": "code",
   "execution_count": 11,
   "id": "a2e33ad1",
   "metadata": {
    "execution": {
     "iopub.execute_input": "2023-03-01T17:05:33.645317Z",
     "iopub.status.busy": "2023-03-01T17:05:33.644092Z",
     "iopub.status.idle": "2023-03-01T17:05:33.651381Z",
     "shell.execute_reply": "2023-03-01T17:05:33.650526Z"
    },
    "papermill": {
     "duration": 0.209895,
     "end_time": "2023-03-01T17:05:33.653684",
     "exception": false,
     "start_time": "2023-03-01T17:05:33.443789",
     "status": "completed"
    },
    "tags": []
   },
   "outputs": [],
   "source": [
    "def smape(y_true, y_pred):\n",
    "    smap = np.zeros(len(y_true))\n",
    "    \n",
    "    num = np.abs(y_true - y_pred)\n",
    "    dem = ((np.abs(y_true) + np.abs(y_pred)) / 2)\n",
    "    \n",
    "    pos_ind = (y_true!=0)|(y_pred!=0)\n",
    "    #smap[pos_ind] = num[pos_ind] / dem[pos_ind]\n",
    "    smap=num/dem\n",
    "    return 100 * np.mean(smap)"
   ]
  },
  {
   "cell_type": "code",
   "execution_count": 12,
   "id": "f05c6238",
   "metadata": {
    "execution": {
     "iopub.execute_input": "2023-03-01T17:05:34.101713Z",
     "iopub.status.busy": "2023-03-01T17:05:34.101112Z",
     "iopub.status.idle": "2023-03-01T17:05:34.297914Z",
     "shell.execute_reply": "2023-03-01T17:05:34.297098Z"
    },
    "papermill": {
     "duration": 0.441373,
     "end_time": "2023-03-01T17:05:34.301670",
     "exception": false,
     "start_time": "2023-03-01T17:05:33.860297",
     "status": "completed"
    },
    "tags": []
   },
   "outputs": [
    {
     "name": "stdout",
     "output_type": "stream",
     "text": [
      "1.3138557746200366\n"
     ]
    },
    {
     "data": {
      "image/png": "[encoded data removed]",
      "text/plain": [
       "<Figure size 432x288 with 1 Axes>"
      ]
     },
     "metadata": {
      "needs_background": "light"
     },
     "output_type": "display_data"
    }
   ],
   "source": [
    "print(smape(np.array(trues), np.array(preds)))\n",
    "plt.plot(traindataTar[35:40])\n",
    "plt.plot(final_pred)\n",
    "plt.show()"
   ]
  }
 ],
 "metadata": {
  "kernelspec": {
   "display_name": "Python 3",
   "language": "python",
   "name": "python3"
  },
  "language_info": {
   "codemirror_mode": {
    "name": "ipython",
    "version": 3
   },
   "file_extension": ".py",
   "mimetype": "text/x-python",
   "name": "python",
   "nbconvert_exporter": "python",
   "pygments_lexer": "ipython3",
   "version": "3.7.12"
  },
  "papermill": {
   "default_parameters": {},
   "duration": 608.949803,
   "end_time": "2023-03-01T17:05:37.690493",
   "environment_variables": {},
   "exception": null,
   "input_path": "__notebook__.ipynb",
   "output_path": "__notebook__.ipynb",
   "parameters": {},
   "start_time": "2023-03-01T16:55:28.740690",
   "version": "2.3.4"
  }
 },
 "nbformat": 4,
 "nbformat_minor": 5
}
